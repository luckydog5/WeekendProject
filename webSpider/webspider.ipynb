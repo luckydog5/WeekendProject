{
 "cells": [
  {
   "cell_type": "code",
   "execution_count": null,
   "metadata": {},
   "outputs": [],
   "source": [
    "import requests\n",
    "\n",
    "if __name__ == '__main__':\n",
    "    target = 'http://www.biqukan.com/1_1094/5403177.html'\n",
    "    req = requests.get(url=target)\n",
    "    #req.encoding = 'GB2312'\n",
    "    print(req.text)"
   ]
  },
  {
   "cell_type": "code",
   "execution_count": null,
   "metadata": {},
   "outputs": [],
   "source": []
  }
 ],
 "metadata": {
  "kernelspec": {
   "display_name": "Python 3.7.4 64-bit ('work': conda)",
   "language": "python",
   "name": "python37464bitworkconda083a9ac5e80344e0868d5faadedb9cc7"
  },
  "language_info": {
   "codemirror_mode": {
    "name": "ipython",
    "version": 3
   },
   "file_extension": ".py",
   "mimetype": "text/x-python",
   "name": "python",
   "nbconvert_exporter": "python",
   "pygments_lexer": "ipython3",
   "version": "3.7.4"
  }
 },
 "nbformat": 4,
 "nbformat_minor": 2
}
